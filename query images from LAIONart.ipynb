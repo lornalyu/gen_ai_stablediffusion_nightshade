{
 "cells": [
  {
   "cell_type": "code",
   "execution_count": 1,
   "metadata": {},
   "outputs": [
    {
     "name": "stdout",
     "output_type": "stream",
     "text": [
      "Requirement already satisfied: datasets in c:\\programdata\\anaconda3\\lib\\site-packages (2.20.0)\n",
      "Requirement already satisfied: filelock in c:\\programdata\\anaconda3\\lib\\site-packages (from datasets) (3.9.0)\n",
      "Requirement already satisfied: numpy>=1.17 in c:\\programdata\\anaconda3\\lib\\site-packages (from datasets) (1.26.4)\n",
      "Requirement already satisfied: pyarrow>=15.0.0 in c:\\programdata\\anaconda3\\lib\\site-packages (from datasets) (15.0.2)\n",
      "Requirement already satisfied: pyarrow-hotfix in c:\\programdata\\anaconda3\\lib\\site-packages (from datasets) (0.6)\n",
      "Requirement already satisfied: dill<0.3.9,>=0.3.0 in c:\\programdata\\anaconda3\\lib\\site-packages (from datasets) (0.3.8)\n",
      "Requirement already satisfied: pandas in c:\\programdata\\anaconda3\\lib\\site-packages (from datasets) (1.5.2)\n",
      "Requirement already satisfied: requests>=2.32.2 in c:\\programdata\\anaconda3\\lib\\site-packages (from datasets) (2.32.3)\n",
      "Requirement already satisfied: tqdm>=4.66.3 in c:\\programdata\\anaconda3\\lib\\site-packages (from datasets) (4.66.4)\n",
      "Requirement already satisfied: xxhash in c:\\programdata\\anaconda3\\lib\\site-packages (from datasets) (3.4.1)\n",
      "Requirement already satisfied: multiprocess in c:\\programdata\\anaconda3\\lib\\site-packages (from datasets) (0.70.16)\n",
      "Requirement already satisfied: fsspec<=2024.5.0,>=2023.1.0 in c:\\programdata\\anaconda3\\lib\\site-packages (from fsspec[http]<=2024.5.0,>=2023.1.0->datasets) (2023.12.2)\n",
      "Requirement already satisfied: aiohttp in c:\\programdata\\anaconda3\\lib\\site-packages (from datasets) (3.8.3)\n",
      "Requirement already satisfied: huggingface-hub>=0.21.2 in c:\\programdata\\anaconda3\\lib\\site-packages (from datasets) (0.24.0)\n",
      "Requirement already satisfied: packaging in c:\\users\\香蕉橡皮\\appdata\\roaming\\python\\python311\\site-packages (from datasets) (23.1)\n",
      "Requirement already satisfied: pyyaml>=5.1 in c:\\programdata\\anaconda3\\lib\\site-packages (from datasets) (6.0)\n",
      "Requirement already satisfied: attrs>=17.3.0 in c:\\programdata\\anaconda3\\lib\\site-packages (from aiohttp->datasets) (22.1.0)\n",
      "Requirement already satisfied: charset-normalizer<3.0,>=2.0 in c:\\programdata\\anaconda3\\lib\\site-packages (from aiohttp->datasets) (2.0.4)\n",
      "Requirement already satisfied: multidict<7.0,>=4.5 in c:\\programdata\\anaconda3\\lib\\site-packages (from aiohttp->datasets) (6.0.2)\n",
      "Requirement already satisfied: async-timeout<5.0,>=4.0.0a3 in c:\\programdata\\anaconda3\\lib\\site-packages (from aiohttp->datasets) (4.0.2)\n",
      "Requirement already satisfied: yarl<2.0,>=1.0 in c:\\programdata\\anaconda3\\lib\\site-packages (from aiohttp->datasets) (1.8.1)\n",
      "Requirement already satisfied: frozenlist>=1.1.1 in c:\\programdata\\anaconda3\\lib\\site-packages (from aiohttp->datasets) (1.3.3)\n",
      "Requirement already satisfied: aiosignal>=1.1.2 in c:\\programdata\\anaconda3\\lib\\site-packages (from aiohttp->datasets) (1.2.0)\n",
      "Requirement already satisfied: typing-extensions>=3.7.4.3 in c:\\programdata\\anaconda3\\lib\\site-packages (from huggingface-hub>=0.21.2->datasets) (4.12.2)\n",
      "Requirement already satisfied: idna<4,>=2.5 in c:\\programdata\\anaconda3\\lib\\site-packages (from requests>=2.32.2->datasets) (3.4)\n",
      "Requirement already satisfied: urllib3<3,>=1.21.1 in c:\\programdata\\anaconda3\\lib\\site-packages (from requests>=2.32.2->datasets) (1.26.16)\n",
      "Requirement already satisfied: certifi>=2017.4.17 in c:\\programdata\\anaconda3\\lib\\site-packages (from requests>=2.32.2->datasets) (2024.2.2)\n",
      "Requirement already satisfied: colorama in c:\\users\\香蕉橡皮\\appdata\\roaming\\python\\python311\\site-packages (from tqdm>=4.66.3->datasets) (0.4.6)\n",
      "Requirement already satisfied: python-dateutil>=2.8.1 in c:\\users\\香蕉橡皮\\appdata\\roaming\\python\\python311\\site-packages (from pandas->datasets) (2.8.2)\n",
      "Requirement already satisfied: pytz>=2020.1 in c:\\programdata\\anaconda3\\lib\\site-packages (from pandas->datasets) (2022.7)\n",
      "Requirement already satisfied: six>=1.5 in c:\\users\\香蕉橡皮\\appdata\\roaming\\python\\python311\\site-packages (from python-dateutil>=2.8.1->pandas->datasets) (1.16.0)\n"
     ]
    },
    {
     "name": "stderr",
     "output_type": "stream",
     "text": [
      "\n",
      "[notice] A new release of pip is available: 24.0 -> 24.2\n",
      "[notice] To update, run: python.exe -m pip install --upgrade pip\n",
      "\n",
      "[notice] A new release of pip is available: 24.0 -> 24.2\n",
      "[notice] To update, run: python.exe -m pip install --upgrade pip\n"
     ]
    },
    {
     "name": "stdout",
     "output_type": "stream",
     "text": [
      "Requirement already satisfied: sentence-transformers in c:\\programdata\\anaconda3\\lib\\site-packages (2.2.2)\n",
      "Requirement already satisfied: transformers<5.0.0,>=4.6.0 in c:\\programdata\\anaconda3\\lib\\site-packages (from sentence-transformers) (4.36.2)\n",
      "Requirement already satisfied: tqdm in c:\\programdata\\anaconda3\\lib\\site-packages (from sentence-transformers) (4.66.4)\n",
      "Requirement already satisfied: torch>=1.6.0 in c:\\programdata\\anaconda3\\lib\\site-packages (from sentence-transformers) (2.1.2)\n",
      "Requirement already satisfied: torchvision in c:\\programdata\\anaconda3\\lib\\site-packages (from sentence-transformers) (0.16.2)\n",
      "Requirement already satisfied: numpy in c:\\programdata\\anaconda3\\lib\\site-packages (from sentence-transformers) (1.26.4)\n",
      "Requirement already satisfied: scikit-learn in c:\\programdata\\anaconda3\\lib\\site-packages (from sentence-transformers) (1.5.1)\n",
      "Requirement already satisfied: scipy in c:\\programdata\\anaconda3\\lib\\site-packages (from sentence-transformers) (1.10.1)\n",
      "Requirement already satisfied: nltk in c:\\programdata\\anaconda3\\lib\\site-packages (from sentence-transformers) (3.8.1)\n",
      "Requirement already satisfied: sentencepiece in c:\\programdata\\anaconda3\\lib\\site-packages (from sentence-transformers) (0.1.99)\n",
      "Requirement already satisfied: huggingface-hub>=0.4.0 in c:\\programdata\\anaconda3\\lib\\site-packages (from sentence-transformers) (0.24.0)\n",
      "Requirement already satisfied: filelock in c:\\programdata\\anaconda3\\lib\\site-packages (from huggingface-hub>=0.4.0->sentence-transformers) (3.9.0)\n",
      "Requirement already satisfied: fsspec>=2023.5.0 in c:\\programdata\\anaconda3\\lib\\site-packages (from huggingface-hub>=0.4.0->sentence-transformers) (2023.12.2)\n",
      "Requirement already satisfied: packaging>=20.9 in c:\\users\\香蕉橡皮\\appdata\\roaming\\python\\python311\\site-packages (from huggingface-hub>=0.4.0->sentence-transformers) (23.1)\n",
      "Requirement already satisfied: pyyaml>=5.1 in c:\\programdata\\anaconda3\\lib\\site-packages (from huggingface-hub>=0.4.0->sentence-transformers) (6.0)\n",
      "Requirement already satisfied: requests in c:\\programdata\\anaconda3\\lib\\site-packages (from huggingface-hub>=0.4.0->sentence-transformers) (2.32.3)\n",
      "Requirement already satisfied: typing-extensions>=3.7.4.3 in c:\\programdata\\anaconda3\\lib\\site-packages (from huggingface-hub>=0.4.0->sentence-transformers) (4.12.2)\n",
      "Requirement already satisfied: sympy in c:\\programdata\\anaconda3\\lib\\site-packages (from torch>=1.6.0->sentence-transformers) (1.11.1)\n",
      "Requirement already satisfied: networkx in c:\\programdata\\anaconda3\\lib\\site-packages (from torch>=1.6.0->sentence-transformers) (3.1)\n",
      "Requirement already satisfied: jinja2 in c:\\programdata\\anaconda3\\lib\\site-packages (from torch>=1.6.0->sentence-transformers) (3.1.2)\n",
      "Requirement already satisfied: colorama in c:\\users\\香蕉橡皮\\appdata\\roaming\\python\\python311\\site-packages (from tqdm->sentence-transformers) (0.4.6)\n",
      "Requirement already satisfied: regex!=2019.12.17 in c:\\programdata\\anaconda3\\lib\\site-packages (from transformers<5.0.0,>=4.6.0->sentence-transformers) (2022.7.9)\n",
      "Requirement already satisfied: tokenizers<0.19,>=0.14 in c:\\programdata\\anaconda3\\lib\\site-packages (from transformers<5.0.0,>=4.6.0->sentence-transformers) (0.15.0)\n",
      "Requirement already satisfied: safetensors>=0.3.1 in c:\\programdata\\anaconda3\\lib\\site-packages (from transformers<5.0.0,>=4.6.0->sentence-transformers) (0.4.1)\n",
      "Requirement already satisfied: click in c:\\programdata\\anaconda3\\lib\\site-packages (from nltk->sentence-transformers) (8.1.7)\n",
      "Requirement already satisfied: joblib in c:\\programdata\\anaconda3\\lib\\site-packages (from nltk->sentence-transformers) (1.2.0)\n",
      "Requirement already satisfied: threadpoolctl>=3.1.0 in c:\\programdata\\anaconda3\\lib\\site-packages (from scikit-learn->sentence-transformers) (3.5.0)\n",
      "Requirement already satisfied: pillow!=8.3.*,>=5.3.0 in c:\\programdata\\anaconda3\\lib\\site-packages (from torchvision->sentence-transformers) (10.2.0)\n",
      "Requirement already satisfied: MarkupSafe>=2.0 in c:\\programdata\\anaconda3\\lib\\site-packages (from jinja2->torch>=1.6.0->sentence-transformers) (2.1.1)\n",
      "Requirement already satisfied: charset-normalizer<4,>=2 in c:\\programdata\\anaconda3\\lib\\site-packages (from requests->huggingface-hub>=0.4.0->sentence-transformers) (2.0.4)\n",
      "Requirement already satisfied: idna<4,>=2.5 in c:\\programdata\\anaconda3\\lib\\site-packages (from requests->huggingface-hub>=0.4.0->sentence-transformers) (3.4)\n",
      "Requirement already satisfied: urllib3<3,>=1.21.1 in c:\\programdata\\anaconda3\\lib\\site-packages (from requests->huggingface-hub>=0.4.0->sentence-transformers) (1.26.16)\n",
      "Requirement already satisfied: certifi>=2017.4.17 in c:\\programdata\\anaconda3\\lib\\site-packages (from requests->huggingface-hub>=0.4.0->sentence-transformers) (2024.2.2)\n",
      "Requirement already satisfied: mpmath>=0.19 in c:\\programdata\\anaconda3\\lib\\site-packages (from sympy->torch>=1.6.0->sentence-transformers) (1.3.0)\n",
      "Requirement already satisfied: huggingface-hub in c:\\programdata\\anaconda3\\lib\\site-packages (0.24.0)\n",
      "Requirement already satisfied: filelock in c:\\programdata\\anaconda3\\lib\\site-packages (from huggingface-hub) (3.9.0)\n",
      "Requirement already satisfied: fsspec>=2023.5.0 in c:\\programdata\\anaconda3\\lib\\site-packages (from huggingface-hub) (2023.12.2)\n",
      "Requirement already satisfied: packaging>=20.9 in c:\\users\\香蕉橡皮\\appdata\\roaming\\python\\python311\\site-packages (from huggingface-hub) (23.1)\n",
      "Requirement already satisfied: pyyaml>=5.1 in c:\\programdata\\anaconda3\\lib\\site-packages (from huggingface-hub) (6.0)\n",
      "Requirement already satisfied: requests in c:\\programdata\\anaconda3\\lib\\site-packages (from huggingface-hub) (2.32.3)\n",
      "Requirement already satisfied: tqdm>=4.42.1 in c:\\programdata\\anaconda3\\lib\\site-packages (from huggingface-hub) (4.66.4)\n",
      "Requirement already satisfied: typing-extensions>=3.7.4.3 in c:\\programdata\\anaconda3\\lib\\site-packages (from huggingface-hub) (4.12.2)\n",
      "Requirement already satisfied: colorama in c:\\users\\香蕉橡皮\\appdata\\roaming\\python\\python311\\site-packages (from tqdm>=4.42.1->huggingface-hub) (0.4.6)\n",
      "Requirement already satisfied: charset-normalizer<4,>=2 in c:\\programdata\\anaconda3\\lib\\site-packages (from requests->huggingface-hub) (2.0.4)\n",
      "Requirement already satisfied: idna<4,>=2.5 in c:\\programdata\\anaconda3\\lib\\site-packages (from requests->huggingface-hub) (3.4)\n",
      "Requirement already satisfied: urllib3<3,>=1.21.1 in c:\\programdata\\anaconda3\\lib\\site-packages (from requests->huggingface-hub) (1.26.16)\n",
      "Requirement already satisfied: certifi>=2017.4.17 in c:\\programdata\\anaconda3\\lib\\site-packages (from requests->huggingface-hub) (2024.2.2)\n"
     ]
    },
    {
     "name": "stderr",
     "output_type": "stream",
     "text": [
      "\n",
      "[notice] A new release of pip is available: 24.0 -> 24.2\n",
      "[notice] To update, run: python.exe -m pip install --upgrade pip\n"
     ]
    },
    {
     "name": "stdout",
     "output_type": "stream",
     "text": [
      "^C\n"
     ]
    },
    {
     "name": "stdout",
     "output_type": "stream",
     "text": [
      "Requirement already satisfied: faiss-cpu in c:\\programdata\\anaconda3\\lib\\site-packages (1.8.0.post1)\n",
      "Requirement already satisfied: numpy<2.0,>=1.0 in c:\\programdata\\anaconda3\\lib\\site-packages (from faiss-cpu) (1.26.4)\n",
      "Requirement already satisfied: packaging in c:\\users\\香蕉橡皮\\appdata\\roaming\\python\\python311\\site-packages (from faiss-cpu) (23.1)\n"
     ]
    },
    {
     "name": "stderr",
     "output_type": "stream",
     "text": [
      "\n",
      "[notice] A new release of pip is available: 24.0 -> 24.2\n",
      "[notice] To update, run: python.exe -m pip install --upgrade pip\n"
     ]
    }
   ],
   "source": [
    "! pip install datasets\n",
    "! pip install sentence-transformers\n",
    "! pip install huggingface-hub\n",
    "! pip install faiss-cpu"
   ]
  },
  {
   "cell_type": "code",
   "execution_count": 2,
   "metadata": {},
   "outputs": [],
   "source": [
    "#for CLIP embedding search\n",
    "import torch\n",
    "from packaging import version\n",
    "import numpy as np\n",
    "from abc import ABC, abstractmethod\n",
    "\n",
    "from transformers import CLIPModel, AutoProcessor\n",
    "from sentence_transformers import SentenceTransformer\n",
    "#for dataset download\n",
    "import datasets\n",
    "from datasets import load_dataset\n",
    "from huggingface_hub import hf_hub_download\n",
    "import pandas as pd"
   ]
  },
  {
   "cell_type": "markdown",
   "metadata": {},
   "source": [
    "Import Dataset:"
   ]
  },
  {
   "cell_type": "code",
   "execution_count": null,
   "metadata": {},
   "outputs": [],
   "source": [
    "dataset = load_dataset(\"recastai/LAION-art-EN-improved-captions\", split=\"train\")"
   ]
  },
  {
   "cell_type": "markdown",
   "metadata": {},
   "source": [
    "Image to dataset\n"
   ]
  },
  {
   "cell_type": "code",
   "execution_count": 4,
   "metadata": {},
   "outputs": [
    {
     "name": "stdout",
     "output_type": "stream",
     "text": [
      "Requirement already satisfied: img2dataset in c:\\programdata\\anaconda3\\lib\\site-packages (1.45.0)\n",
      "Requirement already satisfied: tqdm<5,>=4.62.3 in c:\\programdata\\anaconda3\\lib\\site-packages (from img2dataset) (4.66.4)\n",
      "Requirement already satisfied: opencv-python-headless<5,>=4.5.5.62 in c:\\programdata\\anaconda3\\lib\\site-packages (from img2dataset) (4.9.0.80)\n",
      "Requirement already satisfied: fire<0.6.0,>=0.4.0 in c:\\programdata\\anaconda3\\lib\\site-packages (from img2dataset) (0.5.0)\n",
      "Requirement already satisfied: webdataset<0.3,>=0.2.5 in c:\\programdata\\anaconda3\\lib\\site-packages (from img2dataset) (0.2.86)\n",
      "Requirement already satisfied: pandas<3,>=1.1.5 in c:\\programdata\\anaconda3\\lib\\site-packages (from img2dataset) (1.5.2)\n",
      "Collecting pyarrow<16,>=6.0.1 (from img2dataset)\n",
      "  Downloading pyarrow-15.0.2-cp311-cp311-win_amd64.whl.metadata (3.1 kB)\n",
      "Requirement already satisfied: exifread-nocycle<4,>=3.0.1 in c:\\programdata\\anaconda3\\lib\\site-packages (from img2dataset) (3.0.1)\n",
      "Requirement already satisfied: albumentations<2,>=1.1.0 in c:\\programdata\\anaconda3\\lib\\site-packages (from img2dataset) (1.4.11)\n",
      "Requirement already satisfied: dataclasses<1.0.0,>=0.6 in c:\\programdata\\anaconda3\\lib\\site-packages (from img2dataset) (0.6)\n",
      "Requirement already satisfied: wandb<0.17,>=0.16.0 in c:\\programdata\\anaconda3\\lib\\site-packages (from img2dataset) (0.16.6)\n",
      "Requirement already satisfied: fsspec in c:\\programdata\\anaconda3\\lib\\site-packages (from img2dataset) (2023.12.2)\n",
      "Requirement already satisfied: numpy>=1.24.4 in c:\\programdata\\anaconda3\\lib\\site-packages (from albumentations<2,>=1.1.0->img2dataset) (1.26.4)\n",
      "Requirement already satisfied: scipy>=1.10.0 in c:\\programdata\\anaconda3\\lib\\site-packages (from albumentations<2,>=1.1.0->img2dataset) (1.10.1)\n",
      "Requirement already satisfied: scikit-image>=0.21.0 in c:\\programdata\\anaconda3\\lib\\site-packages (from albumentations<2,>=1.1.0->img2dataset) (0.24.0)\n",
      "Requirement already satisfied: PyYAML in c:\\programdata\\anaconda3\\lib\\site-packages (from albumentations<2,>=1.1.0->img2dataset) (6.0)\n",
      "Requirement already satisfied: typing-extensions>=4.9.0 in c:\\programdata\\anaconda3\\lib\\site-packages (from albumentations<2,>=1.1.0->img2dataset) (4.12.2)\n",
      "Requirement already satisfied: scikit-learn>=1.3.2 in c:\\programdata\\anaconda3\\lib\\site-packages (from albumentations<2,>=1.1.0->img2dataset) (1.5.1)\n",
      "Requirement already satisfied: pydantic>=2.7.0 in c:\\programdata\\anaconda3\\lib\\site-packages (from albumentations<2,>=1.1.0->img2dataset) (2.8.2)\n",
      "Requirement already satisfied: albucore>=0.0.11 in c:\\programdata\\anaconda3\\lib\\site-packages (from albumentations<2,>=1.1.0->img2dataset) (0.0.12)\n",
      "Requirement already satisfied: eval-type-backport in c:\\programdata\\anaconda3\\lib\\site-packages (from albumentations<2,>=1.1.0->img2dataset) (0.2.0)\n",
      "Requirement already satisfied: six in c:\\users\\香蕉橡皮\\appdata\\roaming\\python\\python311\\site-packages (from fire<0.6.0,>=0.4.0->img2dataset) (1.16.0)\n",
      "Requirement already satisfied: termcolor in c:\\programdata\\anaconda3\\lib\\site-packages (from fire<0.6.0,>=0.4.0->img2dataset) (2.4.0)\n",
      "Requirement already satisfied: python-dateutil>=2.8.1 in c:\\users\\香蕉橡皮\\appdata\\roaming\\python\\python311\\site-packages (from pandas<3,>=1.1.5->img2dataset) (2.8.2)\n",
      "Requirement already satisfied: pytz>=2020.1 in c:\\programdata\\anaconda3\\lib\\site-packages (from pandas<3,>=1.1.5->img2dataset) (2022.7)\n",
      "Requirement already satisfied: colorama in c:\\users\\香蕉橡皮\\appdata\\roaming\\python\\python311\\site-packages (from tqdm<5,>=4.62.3->img2dataset) (0.4.6)\n",
      "Requirement already satisfied: Click!=8.0.0,>=7.1 in c:\\programdata\\anaconda3\\lib\\site-packages (from wandb<0.17,>=0.16.0->img2dataset) (8.1.7)\n",
      "Requirement already satisfied: GitPython!=3.1.29,>=1.0.0 in c:\\programdata\\anaconda3\\lib\\site-packages (from wandb<0.17,>=0.16.0->img2dataset) (3.1.43)\n",
      "Requirement already satisfied: requests<3,>=2.0.0 in c:\\programdata\\anaconda3\\lib\\site-packages (from wandb<0.17,>=0.16.0->img2dataset) (2.32.3)\n",
      "Requirement already satisfied: psutil>=5.0.0 in c:\\users\\香蕉橡皮\\appdata\\roaming\\python\\python311\\site-packages (from wandb<0.17,>=0.16.0->img2dataset) (5.9.5)\n",
      "Requirement already satisfied: sentry-sdk>=1.0.0 in c:\\programdata\\anaconda3\\lib\\site-packages (from wandb<0.17,>=0.16.0->img2dataset) (2.10.0)\n",
      "Requirement already satisfied: docker-pycreds>=0.4.0 in c:\\programdata\\anaconda3\\lib\\site-packages (from wandb<0.17,>=0.16.0->img2dataset) (0.4.0)\n",
      "Requirement already satisfied: setproctitle in c:\\programdata\\anaconda3\\lib\\site-packages (from wandb<0.17,>=0.16.0->img2dataset) (1.3.3)\n",
      "Requirement already satisfied: setuptools in c:\\programdata\\anaconda3\\lib\\site-packages (from wandb<0.17,>=0.16.0->img2dataset) (68.0.0)\n",
      "Requirement already satisfied: appdirs>=1.4.3 in c:\\programdata\\anaconda3\\lib\\site-packages (from wandb<0.17,>=0.16.0->img2dataset) (1.4.4)\n",
      "Requirement already satisfied: protobuf!=4.21.0,<5,>=3.19.0 in c:\\programdata\\anaconda3\\lib\\site-packages (from wandb<0.17,>=0.16.0->img2dataset) (3.20.3)\n",
      "Requirement already satisfied: braceexpand in c:\\programdata\\anaconda3\\lib\\site-packages (from webdataset<0.3,>=0.2.5->img2dataset) (0.1.7)\n",
      "Requirement already satisfied: tomli>=2.0.1 in c:\\programdata\\anaconda3\\lib\\site-packages (from albucore>=0.0.11->albumentations<2,>=1.1.0->img2dataset) (2.0.1)\n",
      "Requirement already satisfied: gitdb<5,>=4.0.1 in c:\\programdata\\anaconda3\\lib\\site-packages (from GitPython!=3.1.29,>=1.0.0->wandb<0.17,>=0.16.0->img2dataset) (4.0.11)\n",
      "Requirement already satisfied: annotated-types>=0.4.0 in c:\\programdata\\anaconda3\\lib\\site-packages (from pydantic>=2.7.0->albumentations<2,>=1.1.0->img2dataset) (0.7.0)\n",
      "Requirement already satisfied: pydantic-core==2.20.1 in c:\\programdata\\anaconda3\\lib\\site-packages (from pydantic>=2.7.0->albumentations<2,>=1.1.0->img2dataset) (2.20.1)\n",
      "Requirement already satisfied: charset-normalizer<4,>=2 in c:\\programdata\\anaconda3\\lib\\site-packages (from requests<3,>=2.0.0->wandb<0.17,>=0.16.0->img2dataset) (2.0.4)\n",
      "Requirement already satisfied: idna<4,>=2.5 in c:\\programdata\\anaconda3\\lib\\site-packages (from requests<3,>=2.0.0->wandb<0.17,>=0.16.0->img2dataset) (3.4)\n",
      "Requirement already satisfied: urllib3<3,>=1.21.1 in c:\\programdata\\anaconda3\\lib\\site-packages (from requests<3,>=2.0.0->wandb<0.17,>=0.16.0->img2dataset) (1.26.16)\n",
      "Requirement already satisfied: certifi>=2017.4.17 in c:\\programdata\\anaconda3\\lib\\site-packages (from requests<3,>=2.0.0->wandb<0.17,>=0.16.0->img2dataset) (2024.2.2)\n",
      "Requirement already satisfied: networkx>=2.8 in c:\\programdata\\anaconda3\\lib\\site-packages (from scikit-image>=0.21.0->albumentations<2,>=1.1.0->img2dataset) (3.1)\n",
      "Requirement already satisfied: pillow>=9.1 in c:\\programdata\\anaconda3\\lib\\site-packages (from scikit-image>=0.21.0->albumentations<2,>=1.1.0->img2dataset) (10.2.0)\n",
      "Requirement already satisfied: imageio>=2.33 in c:\\programdata\\anaconda3\\lib\\site-packages (from scikit-image>=0.21.0->albumentations<2,>=1.1.0->img2dataset) (2.34.2)\n",
      "Requirement already satisfied: tifffile>=2022.8.12 in c:\\programdata\\anaconda3\\lib\\site-packages (from scikit-image>=0.21.0->albumentations<2,>=1.1.0->img2dataset) (2024.7.21)\n",
      "Requirement already satisfied: packaging>=21 in c:\\users\\香蕉橡皮\\appdata\\roaming\\python\\python311\\site-packages (from scikit-image>=0.21.0->albumentations<2,>=1.1.0->img2dataset) (23.1)\n",
      "Requirement already satisfied: lazy-loader>=0.4 in c:\\programdata\\anaconda3\\lib\\site-packages (from scikit-image>=0.21.0->albumentations<2,>=1.1.0->img2dataset) (0.4)\n",
      "Requirement already satisfied: joblib>=1.2.0 in c:\\programdata\\anaconda3\\lib\\site-packages (from scikit-learn>=1.3.2->albumentations<2,>=1.1.0->img2dataset) (1.2.0)\n",
      "Requirement already satisfied: threadpoolctl>=3.1.0 in c:\\programdata\\anaconda3\\lib\\site-packages (from scikit-learn>=1.3.2->albumentations<2,>=1.1.0->img2dataset) (3.5.0)\n",
      "Requirement already satisfied: smmap<6,>=3.0.1 in c:\\programdata\\anaconda3\\lib\\site-packages (from gitdb<5,>=4.0.1->GitPython!=3.1.29,>=1.0.0->wandb<0.17,>=0.16.0->img2dataset) (5.0.1)\n",
      "Downloading pyarrow-15.0.2-cp311-cp311-win_amd64.whl (24.8 MB)\n",
      "   ---------------------------------------- 0.0/24.8 MB ? eta -:--:--\n",
      "   ---------------------------------------- 0.0/24.8 MB 640.0 kB/s eta 0:00:39\n",
      "    --------------------------------------- 0.5/24.8 MB 7.5 MB/s eta 0:00:04\n",
      "   --- ------------------------------------ 1.9/24.8 MB 17.0 MB/s eta 0:00:02\n",
      "   ----- ---------------------------------- 3.5/24.8 MB 22.6 MB/s eta 0:00:01\n",
      "   --------- ------------------------------ 5.6/24.8 MB 27.6 MB/s eta 0:00:01\n",
      "   ------------ --------------------------- 7.6/24.8 MB 30.3 MB/s eta 0:00:01\n",
      "   --------------- ------------------------ 9.8/24.8 MB 33.0 MB/s eta 0:00:01\n",
      "   ------------------- -------------------- 12.3/24.8 MB 46.7 MB/s eta 0:00:01\n",
      "   ------------------------ --------------- 15.3/24.8 MB 50.4 MB/s eta 0:00:01\n",
      "   ----------------------------- ---------- 18.3/24.8 MB 59.5 MB/s eta 0:00:01\n",
      "   ---------------------------------- ----- 21.2/24.8 MB 65.6 MB/s eta 0:00:01\n",
      "   -------------------------------------- - 24.1/24.8 MB 65.6 MB/s eta 0:00:01\n",
      "   ---------------------------------------- 24.8/24.8 MB 54.4 MB/s eta 0:00:00\n",
      "Installing collected packages: pyarrow\n",
      "  Attempting uninstall: pyarrow\n",
      "    Found existing installation: pyarrow 17.0.0\n",
      "    Uninstalling pyarrow-17.0.0:\n",
      "      Successfully uninstalled pyarrow-17.0.0\n",
      "Successfully installed pyarrow-15.0.2\n",
      "Note: you may need to restart the kernel to use updated packages.\n"
     ]
    },
    {
     "name": "stderr",
     "output_type": "stream",
     "text": [
      "  WARNING: Failed to remove contents in a temporary directory 'C:\\ProgramData\\anaconda3\\Lib\\site-packages\\~yarrow'.\n",
      "  You can safely remove it manually.\n",
      "ERROR: pip's dependency resolver does not currently take into account all the packages that are installed. This behaviour is the source of the following dependency conflicts.\n",
      "clip-retrieval 2.44.0 requires pyarrow<15,>=6.0.1, but you have pyarrow 15.0.2 which is incompatible.\n",
      "\n",
      "[notice] A new release of pip is available: 24.0 -> 24.2\n",
      "[notice] To update, run: python.exe -m pip install --upgrade pip\n"
     ]
    }
   ],
   "source": [
    "pip install img2dataset"
   ]
  },
  {
   "cell_type": "code",
   "execution_count": 20,
   "metadata": {},
   "outputs": [
    {
     "name": "stdout",
     "output_type": "stream",
     "text": [
      "Contents of the Parquet file:\n",
      "pyarrow.Table\n",
      "url: string\n",
      "key: string\n",
      "generated_caption: string\n",
      "orig_caption: string\n",
      "----\n",
      "url: [[\"https://images2.bonhams.com/image?src=Images/live/2007-06/01/7445262-3-5.jpg&width=960\",\"https://www.copia-di-arte.com/kunst/gerard_dou/stillleben_mit_knabe_die_seife_lo.jpg\",\"https://assets.bluethumb.com.au/media/image/thumbnail/5000/415/eyJpZCI6InVwbG9hZHMvbGlzdGluZy80NzU4NDAvZ2FicmllbGxlLXRpdG8tY2FuZHktYmx1ZXRodW1iLWMyMWMuanBlZyIsInN0b3JhZ2UiOiJzdG9yZSIsIm1ldGFkYXRhIjp7ImZpbGVuYW1lIjoiZ2FicmllbGxlLXRpdG8tY2FuZHktYmx1ZXRodW1iLWMyMWMuanBlZyIsIm1pbWVfdHlwZSI6bnVsbH19?signature=17b2ab6961c33978efb62b5bbd86199ea85274e74f3f02e81a50f1d8641bcfaf\",\"https://i.pinimg.com/236x/0e/db/f6/0edbf6d8c7241b60a28f264b7c4cc7f7--clipart.jpg\",\"https://i.pinimg.com/736x/34/b7/be/34b7bebf35ab9e797ca1f7210a44492a--quilling-ideas-dollhouse-miniatures.jpg\",...,\"https://a0.muscache.com/im/pictures/b5348a75-f1d7-40f7-8c31-2c1d2c85d161.jpg?im_w=720\",\"https://www.dashingtweeds.co.uk/wp-content/uploads/2018/06/shetland-jig-low-ress-221-m2m-570x570.jpg\",\"https://us.123rf.com/450wm/yuliadavidovich/yuliadavidovich1508/yuliadavidovich150800128/44107868-heerlijk-ontbijt-met-verse-croissants-close-up.jpg?ver=6\",\"https://images.mansionglobal.com/im-99221?width=1280\",\"https://us.123rf.com/450wm/zalina777/zalina7772005/zalina777200500017/147259835-seamless-endless-botanical-pattern-with-flowers-and-berries-of-strawberry-on-white-background-in-car.jpg?ver=6\"]]\n",
      "key: [[\"002386748\",\"002519493\",\"001467701\",\"001886254\",\"001647576\",...,\"002512991\",\"000684868\",\"001313496\",\"001763249\",\"001154031\"]]\n",
      "generated_caption: [[\"a red car parked in a parking lot\",\"a painting of a boy sitting at a table with a basket\",\"a painting of a vase of flowers on a table\",\"a cartoon of a river and a bridge\",\"a doll house made out of paper on a table\",...,\"a small house with two chairs on the porch\",\"a man in a suit standing in a room\",\"a wooden table with a tray of croissants and orange juice\",\"a large house in the middle of a green field\",\"a pattern of strawberries and leaves on a white background\"]]\n",
      "orig_caption: [[\"The ex-Curt Lincoln, Jack Brewer,1959 2-Liter Cooper-Climax Monaco Mark I Sports-Racing Two-Seater  Chassis no. CM-1-59 Engine no. 430/30/1164\",\"Still Life with a Boy Blowing Soap-bubbles\",\"Pretty abstract flowers in a hand painted vase\",\"Scenery Background, Background Clipart, Cartoon Background, Background Pictures, Photo Frame Wallpaper, Framed Wallpaper, Art Drawings For Kids, Drawing For Kids, Blog Backgrounds\",\"Paper Caravan! - Idea: Wouldn't this be cute with some quilling added to it? Idea by CQ CreaQuill.\",...,\"Foothills Tiny House\",\"made to measure, 3 piece suit, tailoring, tweed\",\"delicious breakfast with fresh croissants, close-up\",\"'Sweet' Utah Home: Fully Turnkey Ranch Built by Cookie Mogul Lists for $45M\",\"Seamless, endless botanical pattern with flowers and berries of strawberry on white background in cartoon style can be used like Template for kitchen design, packaging for paper or textiles\"]]\n"
     ]
    }
   ],
   "source": [
    "from img2dataset import download\n",
    "import shutil\n",
    "import os\n",
    "import pyarrow as pa\n",
    "from datasets import load_dataset\n",
    "\n",
    "if __name__ == \"__main__\":\n",
    "    # Load your dataset\n",
    "    dataset = load_dataset(\"recastai/LAION-art-EN-improved-captions\", split=\"train\")\n",
    "    \n",
    "    # Sample 15000 random entries\n",
    "    sampled_dataset = dataset.shuffle(seed=0).select(range(21000))\n",
    "    \n",
    "    # Create a PyArrow table\n",
    "    table = pa.Table.from_pydict({\n",
    "        \"url\": sampled_dataset[\"url\"],\n",
    "        \"key\": sampled_dataset[\"key\"],\n",
    "        \"generated_caption\": sampled_dataset[\"generated_caption\"],\n",
    "        \"orig_caption\": sampled_dataset[\"orig_caption\"]\n",
    "    })\n",
    "\n",
    "    # Save as Parquet file\n",
    "    output_dir = os.path.abspath(\"img_dataset\")\n",
    "    if os.path.exists(output_dir):\n",
    "        shutil.rmtree(output_dir)\n",
    "    os.makedirs(output_dir)\n",
    "   \n",
    "    parquet_path = os.path.join(output_dir, \"sampled_data.parquet\")\n",
    "    pa.parquet.write_table(table, parquet_path)\n",
    "\n",
    "    # Print the contents of the Parquet file for verification\n",
    "    print(\"Contents of the Parquet file:\")\n",
    "    print(pa.parquet.read_table(parquet_path))\n",
    "\n",
    "\n",
    "    # # Now use img2dataset with ray distributor\n",
    "    # download(\n",
    "    #     processes_count=16,\n",
    "    #     thread_count=32,\n",
    "    #     url_list=parquet_path,\n",
    "    #     image_size=256,\n",
    "    #     output_folder=output_dir,\n",
    "    #     output_format=\"files\",\n",
    "    #     input_format=\"parquet\",\n",
    "    #     url_col=\"url\",\n",
    "    #     caption_col=\"generated_caption\",\n",
    "    #     enable_wandb=True,\n",
    "    #     number_sample_per_shard=1000,\n",
    "    #     distributor=\"ray\",\n",
    "    # )"
   ]
  },
  {
   "cell_type": "code",
   "execution_count": 22,
   "metadata": {},
   "outputs": [
    {
     "name": "stdout",
     "output_type": "stream",
     "text": [
      "pyarrow.Table\n",
      "url: string\n",
      "key: string\n",
      "generated_caption: string\n",
      "orig_caption: string\n",
      "----\n",
      "url: [[\"https://images2.bonhams.com/image?src=Images/live/2007-06/01/7445262-3-5.jpg&width=960\",\"https://www.copia-di-arte.com/kunst/gerard_dou/stillleben_mit_knabe_die_seife_lo.jpg\",\"https://assets.bluethumb.com.au/media/image/thumbnail/5000/415/eyJpZCI6InVwbG9hZHMvbGlzdGluZy80NzU4NDAvZ2FicmllbGxlLXRpdG8tY2FuZHktYmx1ZXRodW1iLWMyMWMuanBlZyIsInN0b3JhZ2UiOiJzdG9yZSIsIm1ldGFkYXRhIjp7ImZpbGVuYW1lIjoiZ2FicmllbGxlLXRpdG8tY2FuZHktYmx1ZXRodW1iLWMyMWMuanBlZyIsIm1pbWVfdHlwZSI6bnVsbH19?signature=17b2ab6961c33978efb62b5bbd86199ea85274e74f3f02e81a50f1d8641bcfaf\",\"https://i.pinimg.com/236x/0e/db/f6/0edbf6d8c7241b60a28f264b7c4cc7f7--clipart.jpg\",\"https://i.pinimg.com/736x/34/b7/be/34b7bebf35ab9e797ca1f7210a44492a--quilling-ideas-dollhouse-miniatures.jpg\",...,\"https://a0.muscache.com/im/pictures/b5348a75-f1d7-40f7-8c31-2c1d2c85d161.jpg?im_w=720\",\"https://www.dashingtweeds.co.uk/wp-content/uploads/2018/06/shetland-jig-low-ress-221-m2m-570x570.jpg\",\"https://us.123rf.com/450wm/yuliadavidovich/yuliadavidovich1508/yuliadavidovich150800128/44107868-heerlijk-ontbijt-met-verse-croissants-close-up.jpg?ver=6\",\"https://images.mansionglobal.com/im-99221?width=1280\",\"https://us.123rf.com/450wm/zalina777/zalina7772005/zalina777200500017/147259835-seamless-endless-botanical-pattern-with-flowers-and-berries-of-strawberry-on-white-background-in-car.jpg?ver=6\"]]\n",
      "key: [[\"002386748\",\"002519493\",\"001467701\",\"001886254\",\"001647576\",...,\"002512991\",\"000684868\",\"001313496\",\"001763249\",\"001154031\"]]\n",
      "generated_caption: [[\"a red car parked in a parking lot\",\"a painting of a boy sitting at a table with a basket\",\"a painting of a vase of flowers on a table\",\"a cartoon of a river and a bridge\",\"a doll house made out of paper on a table\",...,\"a small house with two chairs on the porch\",\"a man in a suit standing in a room\",\"a wooden table with a tray of croissants and orange juice\",\"a large house in the middle of a green field\",\"a pattern of strawberries and leaves on a white background\"]]\n",
      "orig_caption: [[\"The ex-Curt Lincoln, Jack Brewer,1959 2-Liter Cooper-Climax Monaco Mark I Sports-Racing Two-Seater  Chassis no. CM-1-59 Engine no. 430/30/1164\",\"Still Life with a Boy Blowing Soap-bubbles\",\"Pretty abstract flowers in a hand painted vase\",\"Scenery Background, Background Clipart, Cartoon Background, Background Pictures, Photo Frame Wallpaper, Framed Wallpaper, Art Drawings For Kids, Drawing For Kids, Blog Backgrounds\",\"Paper Caravan! - Idea: Wouldn't this be cute with some quilling added to it? Idea by CQ CreaQuill.\",...,\"Foothills Tiny House\",\"made to measure, 3 piece suit, tailoring, tweed\",\"delicious breakfast with fresh croissants, close-up\",\"'Sweet' Utah Home: Fully Turnkey Ranch Built by Cookie Mogul Lists for $45M\",\"Seamless, endless botanical pattern with flowers and berries of strawberry on white background in cartoon style can be used like Template for kitchen design, packaging for paper or textiles\"]]\n"
     ]
    }
   ],
   "source": [
    "print(pa.parquet.read_table(parquet_path))"
   ]
  },
  {
   "cell_type": "code",
   "execution_count": 21,
   "metadata": {},
   "outputs": [
    {
     "name": "stdout",
     "output_type": "stream",
     "text": [
      "Starting the downloading of this file\n",
      "Sharding file number 1 of 1 called e:/Projects/summer ai/huggingfacedatasets/img_dataset/sampled_data.parquet\n"
     ]
    },
    {
     "name": "stderr",
     "output_type": "stream",
     "text": [
      "0it [00:00, ?it/s]"
     ]
    },
    {
     "name": "stdout",
     "output_type": "stream",
     "text": [
      "File sharded in 7 shards\n",
      "Downloading starting now, check your bandwidth speed (with bwm-ng)your cpu (with htop), and your disk usage (with iotop)!\n"
     ]
    },
    {
     "name": "stderr",
     "output_type": "stream",
     "text": [
      "7it [03:48, 32.67s/it] \n"
     ]
    }
   ],
   "source": [
    "# Now use img2dataset function to download the images and captions from the dataset.\n",
    "#I want the caption column to include both caption_col=\"generated_caption\", and caption_col=\"orig_caption\".\n",
    "\n",
    "\n",
    "download(\n",
    "        processes_count=16,\n",
    "        thread_count=64,\n",
    "        url_list=parquet_path,\n",
    "        image_size=256,\n",
    "        output_folder=output_dir,\n",
    "        output_format=\"files\",\n",
    "        input_format=\"parquet\",\n",
    "        url_col=\"url\",\n",
    "        caption_col=\"orig_caption\",\n",
    "        enable_wandb=True,\n",
    "        number_sample_per_shard=3000,\n",
    "        distributor=\"multiprocessing\",\n",
    "    )"
   ]
  }
 ],
 "metadata": {
  "kernelspec": {
   "display_name": "base",
   "language": "python",
   "name": "python3"
  },
  "language_info": {
   "codemirror_mode": {
    "name": "ipython",
    "version": 3
   },
   "file_extension": ".py",
   "mimetype": "text/x-python",
   "name": "python",
   "nbconvert_exporter": "python",
   "pygments_lexer": "ipython3",
   "version": "3.11.5"
  }
 },
 "nbformat": 4,
 "nbformat_minor": 2
}
